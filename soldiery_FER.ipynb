{
  "nbformat": 4,
  "nbformat_minor": 0,
  "metadata": {
    "colab": {
      "provenance": [],
      "gpuType": "T4",
      "include_colab_link": true
    },
    "kernelspec": {
      "name": "python3",
      "display_name": "Python 3"
    },
    "accelerator": "GPU"
  },
  "cells": [
    {
      "cell_type": "markdown",
      "metadata": {
        "id": "view-in-github",
        "colab_type": "text"
      },
      "source": [
        "<a href=\"https://colab.research.google.com/github/danibarselon/Face-Emotion-Recognition/blob/main/soldiery_FER.ipynb\" target=\"_parent\"><img src=\"https://colab.research.google.com/assets/colab-badge.svg\" alt=\"Open In Colab\"/></a>"
      ]
    },
    {
      "cell_type": "markdown",
      "metadata": {
        "id": "z3m6Q4dHApSw"
      },
      "source": [
        "# Facial Expression Recognition Challenge using Convolutional Neural Network"
      ]
    },
    {
      "cell_type": "markdown",
      "metadata": {
        "id": "opKtTDPQAtxN"
      },
      "source": [
        "## Abstract"
      ]
    },
    {
      "cell_type": "markdown",
      "metadata": {
        "id": "9-SQMHqaA9IF"
      },
      "source": [
        "Recently, I have developed a mobile game, [Best Actor](https://github.com/mikemikezhu/best-actor-ios), which uses computer vision model to recognize facial expressions. Specifically, the mobile game will randomly display a facial expression label (e.g. surprise) to the player. And the player has to mimic the facial expression so as to achieve a high score. Here I have designed a Convolutional Neural Network in order to perform facial expression recognition in the mobile game. This document will discuss the design and implementation details of the computer vision model."
      ]
    },
    {
      "cell_type": "markdown",
      "metadata": {
        "id": "wYOEWCK1h_KP"
      },
      "source": [
        "## Computer Vision"
      ]
    },
    {
      "cell_type": "markdown",
      "metadata": {
        "id": "VHl6O0TFqRcw"
      },
      "source": [
        "### Download Data"
      ]
    },
    {
      "cell_type": "markdown",
      "metadata": {
        "id": "o4r-IHzgHr4E"
      },
      "source": [
        "Considering that the mobile game relies on computer vision model to make predictions on human facial expressions, we need to download the dataset to train the computer vision model. Here we use FER2013 dataset in [Challenges in Representation Learning: Facial Expression Recognition Challenge](https://www.kaggle.com/c/challenges-in-representation-learning-facial-expression-recognition-challenge/data) in Kaggle. Therefore, let's configure Kaggle API and download the training dataset."
      ]
    },
    {
      "cell_type": "code",
      "source": [
        "from google.colab import drive\n",
        "drive.mount('/content/drive')"
      ],
      "metadata": {
        "colab": {
          "base_uri": "https://localhost:8080/"
        },
        "id": "U2HuNJPLbGs-",
        "outputId": "d2925b00-95db-46d9-ffe0-6b53f8928520"
      },
      "execution_count": null,
      "outputs": [
        {
          "output_type": "stream",
          "name": "stdout",
          "text": [
            "Mounted at /content/drive\n"
          ]
        }
      ]
    },
    {
      "cell_type": "code",
      "source": [
        "!git clone https://github.com/danibarselon/Face-Emotion-Recognition.git"
      ],
      "metadata": {
        "colab": {
          "base_uri": "https://localhost:8080/"
        },
        "id": "V8Xmig0fbTm0",
        "outputId": "953fa6f1-8519-4c99-d877-c7aee36ce699"
      },
      "execution_count": null,
      "outputs": [
        {
          "output_type": "stream",
          "name": "stdout",
          "text": [
            "Cloning into 'Face-Emotion-Recognition'...\n",
            "remote: Enumerating objects: 16, done.\u001b[K\n",
            "remote: Counting objects: 100% (16/16), done.\u001b[K\n",
            "remote: Compressing objects: 100% (13/13), done.\u001b[K\n",
            "remote: Total 16 (delta 3), reused 0 (delta 0), pack-reused 0\u001b[K\n",
            "Receiving objects: 100% (16/16), 6.02 KiB | 6.02 MiB/s, done.\n",
            "Resolving deltas: 100% (3/3), done.\n"
          ]
        }
      ]
    },
    {
      "cell_type": "markdown",
      "metadata": {
        "id": "AlOpwuwwsEeG"
      },
      "source": [
        "### Load Data"
      ]
    },
    {
      "cell_type": "markdown",
      "metadata": {
        "id": "mxhmhHcqJIqL"
      },
      "source": [
        "The image dataset downloaded from Kaggle is in \".csv\" file format. Therefore, we need to load the \"train.csv\" file, and convert it to numpy array. The training images and labels are saved in \"x_train\" and \"y_train\" respectively."
      ]
    },
    {
      "cell_type": "code",
      "source": [
        "!python /content/Face-Emotion-Recognition/Segmenting_Data.py"
      ],
      "metadata": {
        "colab": {
          "base_uri": "https://localhost:8080/"
        },
        "id": "S8-iSyvPcAG8",
        "outputId": "ee3ed20e-5f21-4c1f-c24b-620060b7a383"
      },
      "execution_count": null,
      "outputs": [
        {
          "output_type": "stream",
          "name": "stdout",
          "text": [
            "x_train shape: (28709, 48, 48)\n",
            "y_train shape: (28709,)\n"
          ]
        }
      ]
    },
    {
      "cell_type": "code",
      "source": [
        "%cd /content/Face-Emotion-Recognition"
      ],
      "metadata": {
        "colab": {
          "base_uri": "https://localhost:8080/"
        },
        "id": "8jG7SKZQkLec",
        "outputId": "e97379b3-18bc-4a5d-cb7c-43100f8a740e"
      },
      "execution_count": null,
      "outputs": [
        {
          "output_type": "stream",
          "name": "stdout",
          "text": [
            "/content/Face-Emotion-Recognition\n"
          ]
        }
      ]
    },
    {
      "cell_type": "code",
      "source": [
        "%ls"
      ],
      "metadata": {
        "colab": {
          "base_uri": "https://localhost:8080/"
        },
        "id": "n4qO56FnkPl0",
        "outputId": "5b6cec82-1a36-4751-8ebb-ae0fa8993b0c"
      },
      "execution_count": null,
      "outputs": [
        {
          "output_type": "stream",
          "name": "stdout",
          "text": [
            " Model.py   Preprocess_Data.py   README.md  \u001b[0m\u001b[01;34m'sample data'\u001b[0m/   Segmenting_Data.py   Train.py\n"
          ]
        }
      ]
    },
    {
      "cell_type": "code",
      "source": [
        "import matplotlib.pyplot as plt\n",
        "import numpy\n",
        "from Segmenting_Data import categories_count"
      ],
      "metadata": {
        "colab": {
          "base_uri": "https://localhost:8080/"
        },
        "id": "cAjPVa-To7oF",
        "outputId": "2a4511b8-58a7-47f5-a30a-6bf99810e771"
      },
      "execution_count": null,
      "outputs": [
        {
          "output_type": "stream",
          "name": "stdout",
          "text": [
            "x_train shape: (28709, 48, 48)\n",
            "y_train shape: (28709,)\n"
          ]
        }
      ]
    },
    {
      "cell_type": "markdown",
      "source": [
        "**categories** = ('Angry', 'Disgust', 'Fear', 'Happy', 'Sad', 'Surprise', 'Neutral')\n"
      ],
      "metadata": {
        "id": "P11TfANilbR0"
      }
    },
    {
      "cell_type": "markdown",
      "metadata": {
        "id": "qtWyvmDOvBB9"
      },
      "source": [
        "**Then,we show sample Image**"
      ]
    },
    {
      "cell_type": "code",
      "source": [
        "from Segmenting_Data import x_train,y_train"
      ],
      "metadata": {
        "id": "8Ma4FtAfpwrN"
      },
      "execution_count": null,
      "outputs": []
    },
    {
      "cell_type": "code",
      "source": [
        "import matplotlib.pyplot as plt\n",
        "\n",
        "# Select an image from the training dataset\n",
        "index = 5\n",
        "image = x_train[index]\n",
        "label = y_train[index]\n",
        "\n",
        "print('Label is: ' + str(label))\n",
        "\n",
        "# Display the image in grayscale\n",
        "plt.imshow(image, cmap='gray')\n",
        "plt.title('Image from FER2013 Dataset')\n",
        "plt.axis('off') # Hide the axis\n",
        "plt.show()\n"
      ],
      "metadata": {
        "colab": {
          "base_uri": "https://localhost:8080/",
          "height": 445
        },
        "id": "IwlQ1-Xe7zK_",
        "outputId": "18010abc-90e6-4de8-8184-236be7807c53"
      },
      "execution_count": null,
      "outputs": [
        {
          "output_type": "stream",
          "name": "stdout",
          "text": [
            "Label is: 2\n"
          ]
        },
        {
          "output_type": "display_data",
          "data": {
            "text/plain": [
              "<Figure size 640x480 with 1 Axes>"
            ],
            "image/png": "[encoded data removed]"
          },
          "metadata": {}
        }
      ]
    },
    {
      "cell_type": "markdown",
      "metadata": {
        "id": "P_7uKZdJuuku"
      },
      "source": [
        "### Data Preprocessing"
      ]
    },
    {
      "cell_type": "markdown",
      "metadata": {
        "id": "sBEfQuN-KTZl"
      },
      "source": [
        "**Test Data=20%,\n",
        "Train Data=80% **"
      ]
    },
    {
      "cell_type": "code",
      "source": [
        "!python /content/Face-Emotion-Recognition/Preprocess_Data.py"
      ],
      "metadata": {
        "colab": {
          "base_uri": "https://localhost:8080/"
        },
        "id": "6OShXQxDqPyQ",
        "outputId": "f5a4d263-19c2-4487-c646-fbf65c05ea0d"
      },
      "execution_count": null,
      "outputs": [
        {
          "output_type": "stream",
          "name": "stdout",
          "text": [
            "x_train shape: (28709, 48, 48)\n",
            "y_train shape: (28709,)\n",
            "(22967, 48, 48, 1)\n",
            "(5742, 48, 48, 1)\n"
          ]
        }
      ]
    },
    {
      "cell_type": "code",
      "metadata": {
        "id": "FCly4_J8uwyv",
        "outputId": "0407f184-c66e-4946-8391-58ea5c1b724b",
        "colab": {
          "base_uri": "https://localhost:8080/",
          "height": 51
        }
      },
      "source": [
        "from sklearn.model_selection import train_test_split\n",
        "\n",
        "# Split dataset into train set and test set\n",
        "x_train, x_test, y_train, y_test = train_test_split(x_train, y_train, test_size=0.2)\n",
        "x_train, x_test = x_train / 255.0, x_test / 255.0\n",
        "\n",
        "x_train = x_train.reshape(len(x_train), 48, 48, 1)\n",
        "x_test = x_test.reshape(len(x_test), 48, 48, 1)\n",
        "\n",
        "print(x_train.shape)\n",
        "print(x_test.shape)"
      ],
      "execution_count": null,
      "outputs": [
        {
          "output_type": "stream",
          "text": [
            "(22967, 48, 48, 1)\n",
            "(5742, 48, 48, 1)\n"
          ],
          "name": "stdout"
        }
      ]
    },
    {
      "cell_type": "markdown",
      "metadata": {
        "id": "8GgmBnVv_3ef"
      },
      "source": [
        "### Train Model"
      ]
    },
    {
      "cell_type": "markdown",
      "metadata": {
        "id": "PhoJcURBGGT3"
      },
      "source": [
        "Inspired by the VGGNet architecture, our computer vision model incorporates several layers of convolutions, activation functions, pooling, dense, dropout, and batch normalization techniques. Here's a rephrased breakdown of its layers:\n",
        "-\tPooling Layers: These reduce image spatial data and extract features by down-sampling. Our model employs Max Pooling with a 3 x 3 pooling size and a 2 x 2 stride.\n",
        "-\tConvolutional Layers: These are fundamental to our model, learning image features by calculating the dot product between weights and small image regions. We adopt a 3 x 3 kernel size across all convolutional layers, similar to VGGNet, and use multiple filters.\n",
        "-\tActivation Functions: We apply ReLU (Rectified Linear Unit) to enhance the network's non-linearity and use a Softmax function to calculate category probabilities.\n",
        "-\tDense Layers: These fully connected layers collect feature data from previous convolutional layers for decision-making.\n",
        "-\tDropout Layers: Introduced to mitigate overfitting during model training.\n",
        "-\tBatch Normalization: Utilized to accelerate learning by normalizing the output of the preceding activation layer.\n",
        "\n",
        "The model's diagram is provided below.\n"
      ]
    },
    {
      "cell_type": "markdown",
      "metadata": {
        "id": "b7hcc_NfLpII"
      },
      "source": [
        "Our model is structured with 5 layers of stacks. Each of the first four stacks consists of two convolutional layers followed by a pooling layer. To expedite training, we incorporate batch normalization, and to mitigate overfitting, we use dropout. Following these, there's a stack of three fully-connected layers, ending with a Softmax activation function that calculates the probabilities of facial expression categories. The model is compiled with the Adam optimizer at a specific learning rate, and for the classification task, we employ sparse_categorical_crossentropy as our loss function."
      ]
    },
    {
      "cell_type": "markdown",
      "source": [
        "![fermodel.PNG](data:image/png;base64,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)"
      ],
      "metadata": {
        "id": "VdB2O4pTzvxm"
      }
    },
    {
      "cell_type": "code",
      "source": [
        "!python Model.py"
      ],
      "metadata": {
        "colab": {
          "base_uri": "https://localhost:8080/"
        },
        "id": "chIqKlm7rJAF",
        "outputId": "ba8216e3-a2db-40c1-d22a-e5d73825cc13"
      },
      "execution_count": null,
      "outputs": [
        {
          "output_type": "stream",
          "name": "stdout",
          "text": [
            "2024-02-03 10:56:51.195138: E external/local_xla/xla/stream_executor/cuda/cuda_dnn.cc:9261] Unable to register cuDNN factory: Attempting to register factory for plugin cuDNN when one has already been registered\n",
            "2024-02-03 10:56:51.195207: E external/local_xla/xla/stream_executor/cuda/cuda_fft.cc:607] Unable to register cuFFT factory: Attempting to register factory for plugin cuFFT when one has already been registered\n",
            "2024-02-03 10:56:51.196839: E external/local_xla/xla/stream_executor/cuda/cuda_blas.cc:1515] Unable to register cuBLAS factory: Attempting to register factory for plugin cuBLAS when one has already been registered\n",
            "2024-02-03 10:56:51.204802: I tensorflow/core/platform/cpu_feature_guard.cc:182] This TensorFlow binary is optimized to use available CPU instructions in performance-critical operations.\n",
            "To enable the following instructions: AVX2 FMA, in other operations, rebuild TensorFlow with the appropriate compiler flags.\n",
            "2024-02-03 10:56:52.251114: W tensorflow/compiler/tf2tensorrt/utils/py_utils.cc:38] TF-TRT Warning: Could not find TensorRT\n",
            "Tensorflow version: 2.15.0\n",
            "2024-02-03 10:56:53.926707: I external/local_xla/xla/stream_executor/cuda/cuda_executor.cc:901] successful NUMA node read from SysFS had negative value (-1), but there must be at least one NUMA node, so returning NUMA node zero. See more at https://github.com/torvalds/linux/blob/v6.0/Documentation/ABI/testing/sysfs-bus-pci#L344-L355\n",
            "2024-02-03 10:56:54.494528: I external/local_xla/xla/stream_executor/cuda/cuda_executor.cc:901] successful NUMA node read from SysFS had negative value (-1), but there must be at least one NUMA node, so returning NUMA node zero. See more at https://github.com/torvalds/linux/blob/v6.0/Documentation/ABI/testing/sysfs-bus-pci#L344-L355\n",
            "2024-02-03 10:56:54.494809: I external/local_xla/xla/stream_executor/cuda/cuda_executor.cc:901] successful NUMA node read from SysFS had negative value (-1), but there must be at least one NUMA node, so returning NUMA node zero. See more at https://github.com/torvalds/linux/blob/v6.0/Documentation/ABI/testing/sysfs-bus-pci#L344-L355\n",
            "2024-02-03 10:56:54.495586: I external/local_xla/xla/stream_executor/cuda/cuda_executor.cc:901] successful NUMA node read from SysFS had negative value (-1), but there must be at least one NUMA node, so returning NUMA node zero. See more at https://github.com/torvalds/linux/blob/v6.0/Documentation/ABI/testing/sysfs-bus-pci#L344-L355\n",
            "2024-02-03 10:56:54.495810: I external/local_xla/xla/stream_executor/cuda/cuda_executor.cc:901] successful NUMA node read from SysFS had negative value (-1), but there must be at least one NUMA node, so returning NUMA node zero. See more at https://github.com/torvalds/linux/blob/v6.0/Documentation/ABI/testing/sysfs-bus-pci#L344-L355\n",
            "2024-02-03 10:56:54.495978: I external/local_xla/xla/stream_executor/cuda/cuda_executor.cc:901] successful NUMA node read from SysFS had negative value (-1), but there must be at least one NUMA node, so returning NUMA node zero. See more at https://github.com/torvalds/linux/blob/v6.0/Documentation/ABI/testing/sysfs-bus-pci#L344-L355\n",
            "2024-02-03 10:56:54.739692: I external/local_xla/xla/stream_executor/cuda/cuda_executor.cc:901] successful NUMA node read from SysFS had negative value (-1), but there must be at least one NUMA node, so returning NUMA node zero. See more at https://github.com/torvalds/linux/blob/v6.0/Documentation/ABI/testing/sysfs-bus-pci#L344-L355\n",
            "2024-02-03 10:56:54.740006: I external/local_xla/xla/stream_executor/cuda/cuda_executor.cc:901] successful NUMA node read from SysFS had negative value (-1), but there must be at least one NUMA node, so returning NUMA node zero. See more at https://github.com/torvalds/linux/blob/v6.0/Documentation/ABI/testing/sysfs-bus-pci#L344-L355\n",
            "2024-02-03 10:56:54.740186: W tensorflow/core/common_runtime/gpu/gpu_bfc_allocator.cc:47] Overriding orig_value setting because the TF_FORCE_GPU_ALLOW_GROWTH environment variable is set. Original config value was 0.\n",
            "2024-02-03 10:56:54.740256: I external/local_xla/xla/stream_executor/cuda/cuda_executor.cc:901] successful NUMA node read from SysFS had negative value (-1), but there must be at least one NUMA node, so returning NUMA node zero. See more at https://github.com/torvalds/linux/blob/v6.0/Documentation/ABI/testing/sysfs-bus-pci#L344-L355\n",
            "2024-02-03 10:56:54.740418: I tensorflow/core/common_runtime/gpu/gpu_device.cc:1929] Created device /job:localhost/replica:0/task:0/device:GPU:0 with 13949 MB memory:  -> device: 0, name: Tesla T4, pci bus id: 0000:00:04.0, compute capability: 7.5\n",
            "Model: \"sequential\"\n",
            "_________________________________________________________________\n",
            " Layer (type)                Output Shape              Param #   \n",
            "=================================================================\n",
            " conv2d (Conv2D)             (None, 46, 46, 64)        640       \n",
            "                                                                 \n",
            " batch_normalization (Batch  (None, 46, 46, 64)        256       \n",
            " Normalization)                                                  \n",
            "                                                                 \n",
            " conv2d_1 (Conv2D)           (None, 46, 46, 64)        36928     \n",
            "                                                                 \n",
            " batch_normalization_1 (Bat  (None, 46, 46, 64)        256       \n",
            " chNormalization)                                                \n",
            "                                                                 \n",
            " max_pooling2d (MaxPooling2  (None, 22, 22, 64)        0         \n",
            " D)                                                              \n",
            "                                                                 \n",
            " dropout (Dropout)           (None, 22, 22, 64)        0         \n",
            "                                                                 \n",
            " conv2d_2 (Conv2D)           (None, 22, 22, 128)       73856     \n",
            "                                                                 \n",
            " batch_normalization_2 (Bat  (None, 22, 22, 128)       512       \n",
            " chNormalization)                                                \n",
            "                                                                 \n",
            " conv2d_3 (Conv2D)           (None, 22, 22, 128)       147584    \n",
            "                                                                 \n",
            " batch_normalization_3 (Bat  (None, 22, 22, 128)       512       \n",
            " chNormalization)                                                \n",
            "                                                                 \n",
            " max_pooling2d_1 (MaxPoolin  (None, 10, 10, 128)       0         \n",
            " g2D)                                                            \n",
            "                                                                 \n",
            " dropout_1 (Dropout)         (None, 10, 10, 128)       0         \n",
            "                                                                 \n",
            " conv2d_4 (Conv2D)           (None, 10, 10, 256)       295168    \n",
            "                                                                 \n",
            " batch_normalization_4 (Bat  (None, 10, 10, 256)       1024      \n",
            " chNormalization)                                                \n",
            "                                                                 \n",
            " conv2d_5 (Conv2D)           (None, 10, 10, 256)       590080    \n",
            "                                                                 \n",
            " batch_normalization_5 (Bat  (None, 10, 10, 256)       1024      \n",
            " chNormalization)                                                \n",
            "                                                                 \n",
            " max_pooling2d_2 (MaxPoolin  (None, 4, 4, 256)         0         \n",
            " g2D)                                                            \n",
            "                                                                 \n",
            " dropout_2 (Dropout)         (None, 4, 4, 256)         0         \n",
            "                                                                 \n",
            " conv2d_6 (Conv2D)           (None, 4, 4, 512)         1180160   \n",
            "                                                                 \n",
            " batch_normalization_6 (Bat  (None, 4, 4, 512)         2048      \n",
            " chNormalization)                                                \n",
            "                                                                 \n",
            " conv2d_7 (Conv2D)           (None, 4, 4, 512)         2359808   \n",
            "                                                                 \n",
            " batch_normalization_7 (Bat  (None, 4, 4, 512)         2048      \n",
            " chNormalization)                                                \n",
            "                                                                 \n",
            " max_pooling2d_3 (MaxPoolin  (None, 1, 1, 512)         0         \n",
            " g2D)                                                            \n",
            "                                                                 \n",
            " dropout_3 (Dropout)         (None, 1, 1, 512)         0         \n",
            "                                                                 \n",
            " flatten (Flatten)           (None, 512)               0         \n",
            "                                                                 \n",
            " dense (Dense)               (None, 512)               262656    \n",
            "                                                                 \n",
            " dropout_4 (Dropout)         (None, 512)               0         \n",
            "                                                                 \n",
            " dense_1 (Dense)             (None, 256)               131328    \n",
            "                                                                 \n",
            " dropout_5 (Dropout)         (None, 256)               0         \n",
            "                                                                 \n",
            " dense_2 (Dense)             (None, 64)                16448     \n",
            "                                                                 \n",
            " dropout_6 (Dropout)         (None, 64)                0         \n",
            "                                                                 \n",
            " dense_3 (Dense)             (None, 7)                 455       \n",
            "                                                                 \n",
            "=================================================================\n",
            "Total params: 5102791 (19.47 MB)\n",
            "Trainable params: 5098951 (19.45 MB)\n",
            "Non-trainable params: 3840 (15.00 KB)\n",
            "_________________________________________________________________\n"
          ]
        }
      ]
    },
    {
      "cell_type": "markdown",
      "metadata": {
        "id": "ZAp0dm5pWxfZ"
      },
      "source": [
        "Next, we will train our model. Here we use Early Stopping strategy, which will stop the training process when there is no improvement in the validation accuracy. Besides, we will also reduce the learning rate by a specific factor if there is a plateau is detected in the validation loss."
      ]
    },
    {
      "cell_type": "code",
      "source": [
        "!python Train.py"
      ],
      "metadata": {
        "colab": {
          "base_uri": "https://localhost:8080/"
        },
        "id": "VzF1jfuws3pQ",
        "outputId": "d0645c33-0119-4aa5-b7ee-45eed9064d40"
      },
      "execution_count": null,
      "outputs": [
        {
          "output_type": "stream",
          "name": "stdout",
          "text": [
            "2024-02-03 07:02:45.958522: E external/local_xla/xla/stream_executor/cuda/cuda_dnn.cc:9261] Unable to register cuDNN factory: Attempting to register factory for plugin cuDNN when one has already been registered\n",
            "2024-02-03 07:02:45.958588: E external/local_xla/xla/stream_executor/cuda/cuda_fft.cc:607] Unable to register cuFFT factory: Attempting to register factory for plugin cuFFT when one has already been registered\n",
            "2024-02-03 07:02:45.959963: E external/local_xla/xla/stream_executor/cuda/cuda_blas.cc:1515] Unable to register cuBLAS factory: Attempting to register factory for plugin cuBLAS when one has already been registered\n",
            "2024-02-03 07:02:46.947330: W tensorflow/compiler/tf2tensorrt/utils/py_utils.cc:38] TF-TRT Warning: Could not find TensorRT\n",
            "Tensorflow version: 2.15.0\n",
            "2024-02-03 07:02:48.558184: W tensorflow/core/common_runtime/gpu/gpu_bfc_allocator.cc:47] Overriding orig_value setting because the TF_FORCE_GPU_ALLOW_GROWTH environment variable is set. Original config value was 0.\n",
            "Model: \"sequential\"\n",
            "_________________________________________________________________\n",
            " Layer (type)                Output Shape              Param #   \n",
            "=================================================================\n",
            " conv2d (Conv2D)             (None, 46, 46, 64)        640       \n",
            "                                                                 \n",
            " batch_normalization (Batch  (None, 46, 46, 64)        256       \n",
            " Normalization)                                                  \n",
            "                                                                 \n",
            " conv2d_1 (Conv2D)           (None, 46, 46, 64)        36928     \n",
            "                                                                 \n",
            " batch_normalization_1 (Bat  (None, 46, 46, 64)        256       \n",
            " chNormalization)                                                \n",
            "                                                                 \n",
            " max_pooling2d (MaxPooling2  (None, 22, 22, 64)        0         \n",
            " D)                                                              \n",
            "                                                                 \n",
            " dropout (Dropout)           (None, 22, 22, 64)        0         \n",
            "                                                                 \n",
            " conv2d_2 (Conv2D)           (None, 22, 22, 128)       73856     \n",
            "                                                                 \n",
            " batch_normalization_2 (Bat  (None, 22, 22, 128)       512       \n",
            " chNormalization)                                                \n",
            "                                                                 \n",
            " conv2d_3 (Conv2D)           (None, 22, 22, 128)       147584    \n",
            "                                                                 \n",
            " batch_normalization_3 (Bat  (None, 22, 22, 128)       512       \n",
            " chNormalization)                                                \n",
            "                                                                 \n",
            " max_pooling2d_1 (MaxPoolin  (None, 10, 10, 128)       0         \n",
            " g2D)                                                            \n",
            "                                                                 \n",
            " dropout_1 (Dropout)         (None, 10, 10, 128)       0         \n",
            "                                                                 \n",
            " conv2d_4 (Conv2D)           (None, 10, 10, 256)       295168    \n",
            "                                                                 \n",
            " batch_normalization_4 (Bat  (None, 10, 10, 256)       1024      \n",
            " chNormalization)                                                \n",
            "                                                                 \n",
            " conv2d_5 (Conv2D)           (None, 10, 10, 256)       590080    \n",
            "                                                                 \n",
            " batch_normalization_5 (Bat  (None, 10, 10, 256)       1024      \n",
            " chNormalization)                                                \n",
            "                                                                 \n",
            " max_pooling2d_2 (MaxPoolin  (None, 4, 4, 256)         0         \n",
            " g2D)                                                            \n",
            "                                                                 \n",
            " dropout_2 (Dropout)         (None, 4, 4, 256)         0         \n",
            "                                                                 \n",
            " conv2d_6 (Conv2D)           (None, 4, 4, 512)         1180160   \n",
            "                                                                 \n",
            " batch_normalization_6 (Bat  (None, 4, 4, 512)         2048      \n",
            " chNormalization)                                                \n",
            "                                                                 \n",
            " conv2d_7 (Conv2D)           (None, 4, 4, 512)         2359808   \n",
            "                                                                 \n",
            " batch_normalization_7 (Bat  (None, 4, 4, 512)         2048      \n",
            " chNormalization)                                                \n",
            "                                                                 \n",
            " max_pooling2d_3 (MaxPoolin  (None, 1, 1, 512)         0         \n",
            " g2D)                                                            \n",
            "                                                                 \n",
            " dropout_3 (Dropout)         (None, 1, 1, 512)         0         \n",
            "                                                                 \n",
            " flatten (Flatten)           (None, 512)               0         \n",
            "                                                                 \n",
            " dense (Dense)               (None, 512)               262656    \n",
            "                                                                 \n",
            " dropout_4 (Dropout)         (None, 512)               0         \n",
            "                                                                 \n",
            " dense_1 (Dense)             (None, 256)               131328    \n",
            "                                                                 \n",
            " dropout_5 (Dropout)         (None, 256)               0         \n",
            "                                                                 \n",
            " dense_2 (Dense)             (None, 64)                16448     \n",
            "                                                                 \n",
            " dropout_6 (Dropout)         (None, 64)                0         \n",
            "                                                                 \n",
            " dense_3 (Dense)             (None, 7)                 455       \n",
            "                                                                 \n",
            "=================================================================\n",
            "Total params: 5102791 (19.47 MB)\n",
            "Trainable params: 5098951 (19.45 MB)\n",
            "Non-trainable params: 3840 (15.00 KB)\n",
            "_________________________________________________________________\n",
            "x_train shape: (28709, 48, 48)\n",
            "y_train shape: (28709,)\n",
            "(22967, 48, 48, 1)\n",
            "(5742, 48, 48, 1)\n",
            "Epoch 1/5\n",
            "2024-02-03 07:03:09.043989: E tensorflow/core/grappler/optimizers/meta_optimizer.cc:961] layout failed: INVALID_ARGUMENT: Size of values 0 does not match size of permutation 4 @ fanin shape insequential/dropout/dropout/SelectV2-2-TransposeNHWCToNCHW-LayoutOptimizer\n",
            "WARNING: All log messages before absl::InitializeLog() is called are written to STDERR\n",
            "I0000 00:00:1706943791.775708    3425 device_compiler.h:186] Compiled cluster using XLA!  This line is logged at most once for the lifetime of the process.\n",
            "359/359 [==============================] - 33s 62ms/step - loss: 1.8679 - accuracy: 0.2334 - val_loss: 1.8904 - val_accuracy: 0.2539 - lr: 0.0010\n",
            "Epoch 2/5\n",
            "359/359 [==============================] - 19s 53ms/step - loss: 1.6781 - accuracy: 0.3254 - val_loss: 1.5664 - val_accuracy: 0.3783 - lr: 0.0010\n",
            "Epoch 3/5\n",
            "359/359 [==============================] - 19s 52ms/step - loss: 1.5132 - accuracy: 0.4007 - val_loss: 1.4214 - val_accuracy: 0.4317 - lr: 0.0010\n",
            "Epoch 4/5\n",
            "359/359 [==============================] - 19s 53ms/step - loss: 1.3973 - accuracy: 0.4530 - val_loss: 1.3315 - val_accuracy: 0.4965 - lr: 0.0010\n",
            "Epoch 5/5\n",
            "359/359 [==============================] - 19s 52ms/step - loss: 1.3239 - accuracy: 0.4957 - val_loss: 1.2754 - val_accuracy: 0.5164 - lr: 0.0010\n"
          ]
        }
      ]
    },
    {
      "cell_type": "code",
      "metadata": {
        "id": "OyXIM0otH6yl",
        "outputId": "aa4be36d-43da-4e79-c342-0cc7ddf91016",
        "colab": {
          "base_uri": "https://localhost:8080/"
        }
      },
      "source": [
        "# Callbacks\n",
        "from Model import cnn_model\n",
        "from Preprocess_Data import x_train,x_test,y_train,y_test\n",
        "early_stopping = EarlyStopping(monitor='val_accuracy', patience=10)\n",
        "reduce_learning_rate = ReduceLROnPlateau(monitor='val_loss', factor=0.9, patience=5)\n",
        "\n",
        "# Train the model\n",
        "history = cnn_model.fit(x_train,\n",
        "                        y_train,\n",
        "                        batch_size=64,\n",
        "                        epochs=100,\n",
        "                        validation_data=(x_test, y_test),\n",
        "                        callbacks=[early_stopping, reduce_learning_rate])"
      ],
      "execution_count": null,
      "outputs": [
        {
          "output_type": "stream",
          "name": "stdout",
          "text": [
            "Epoch 1/100\n",
            "359/359 [==============================] - 20s 57ms/step - loss: 1.2170 - accuracy: 0.5442 - val_loss: 1.2097 - val_accuracy: 0.5439 - lr: 0.0010\n",
            "Epoch 2/100\n",
            "359/359 [==============================] - 20s 56ms/step - loss: 1.1792 - accuracy: 0.5610 - val_loss: 1.2884 - val_accuracy: 0.5153 - lr: 0.0010\n",
            "Epoch 3/100\n",
            "359/359 [==============================] - 20s 55ms/step - loss: 1.1475 - accuracy: 0.5786 - val_loss: 1.1589 - val_accuracy: 0.5587 - lr: 0.0010\n",
            "Epoch 4/100\n",
            "359/359 [==============================] - 20s 54ms/step - loss: 1.0986 - accuracy: 0.5975 - val_loss: 1.2013 - val_accuracy: 0.5381 - lr: 0.0010\n",
            "Epoch 5/100\n",
            "359/359 [==============================] - 20s 54ms/step - loss: 1.0663 - accuracy: 0.6077 - val_loss: 1.1455 - val_accuracy: 0.5799 - lr: 0.0010\n",
            "Epoch 6/100\n",
            "359/359 [==============================] - 20s 56ms/step - loss: 1.0327 - accuracy: 0.6232 - val_loss: 1.1100 - val_accuracy: 0.5881 - lr: 0.0010\n",
            "Epoch 7/100\n",
            "359/359 [==============================] - 20s 55ms/step - loss: 1.0019 - accuracy: 0.6355 - val_loss: 1.0696 - val_accuracy: 0.6059 - lr: 0.0010\n",
            "Epoch 8/100\n",
            "359/359 [==============================] - 20s 55ms/step - loss: 0.9545 - accuracy: 0.6535 - val_loss: 1.1318 - val_accuracy: 0.5977 - lr: 0.0010\n",
            "Epoch 9/100\n",
            "359/359 [==============================] - 20s 55ms/step - loss: 0.9145 - accuracy: 0.6705 - val_loss: 1.0816 - val_accuracy: 0.6193 - lr: 0.0010\n",
            "Epoch 10/100\n",
            "359/359 [==============================] - 20s 55ms/step - loss: 0.8800 - accuracy: 0.6872 - val_loss: 1.1564 - val_accuracy: 0.5885 - lr: 0.0010\n",
            "Epoch 11/100\n",
            "359/359 [==============================] - 20s 55ms/step - loss: 0.8390 - accuracy: 0.6985 - val_loss: 1.1127 - val_accuracy: 0.6127 - lr: 0.0010\n",
            "Epoch 12/100\n",
            "359/359 [==============================] - 20s 55ms/step - loss: 0.7973 - accuracy: 0.7143 - val_loss: 1.0954 - val_accuracy: 0.6151 - lr: 0.0010\n",
            "Epoch 13/100\n",
            "359/359 [==============================] - 20s 54ms/step - loss: 0.7262 - accuracy: 0.7419 - val_loss: 1.1348 - val_accuracy: 0.6196 - lr: 9.0000e-04\n",
            "Epoch 14/100\n",
            "359/359 [==============================] - 19s 53ms/step - loss: 0.7044 - accuracy: 0.7492 - val_loss: 1.1023 - val_accuracy: 0.6271 - lr: 9.0000e-04\n",
            "Epoch 15/100\n",
            "359/359 [==============================] - 19s 54ms/step - loss: 0.6592 - accuracy: 0.7664 - val_loss: 1.3058 - val_accuracy: 0.6250 - lr: 9.0000e-04\n",
            "Epoch 16/100\n",
            "359/359 [==============================] - 20s 55ms/step - loss: 0.6141 - accuracy: 0.7842 - val_loss: 1.2493 - val_accuracy: 0.6353 - lr: 9.0000e-04\n",
            "Epoch 17/100\n",
            "359/359 [==============================] - 20s 54ms/step - loss: 0.5829 - accuracy: 0.7949 - val_loss: 1.2809 - val_accuracy: 0.6365 - lr: 9.0000e-04\n",
            "Epoch 18/100\n",
            "359/359 [==============================] - 20s 55ms/step - loss: 0.5336 - accuracy: 0.8168 - val_loss: 1.2453 - val_accuracy: 0.6372 - lr: 8.1000e-04\n",
            "Epoch 19/100\n",
            "359/359 [==============================] - 20s 55ms/step - loss: 0.4921 - accuracy: 0.8279 - val_loss: 1.2682 - val_accuracy: 0.6463 - lr: 8.1000e-04\n",
            "Epoch 20/100\n",
            "359/359 [==============================] - 19s 54ms/step - loss: 0.4527 - accuracy: 0.8426 - val_loss: 1.3655 - val_accuracy: 0.6325 - lr: 8.1000e-04\n",
            "Epoch 21/100\n",
            "359/359 [==============================] - 22s 60ms/step - loss: 0.4279 - accuracy: 0.8516 - val_loss: 1.4017 - val_accuracy: 0.6226 - lr: 8.1000e-04\n",
            "Epoch 22/100\n",
            "359/359 [==============================] - 20s 54ms/step - loss: 0.4162 - accuracy: 0.8562 - val_loss: 1.4197 - val_accuracy: 0.6454 - lr: 8.1000e-04\n",
            "Epoch 23/100\n",
            "359/359 [==============================] - 20s 55ms/step - loss: 0.3648 - accuracy: 0.8745 - val_loss: 1.4660 - val_accuracy: 0.6397 - lr: 7.2900e-04\n",
            "Epoch 24/100\n",
            "359/359 [==============================] - 20s 54ms/step - loss: 0.3341 - accuracy: 0.8868 - val_loss: 1.4573 - val_accuracy: 0.6419 - lr: 7.2900e-04\n",
            "Epoch 25/100\n",
            "359/359 [==============================] - 20s 55ms/step - loss: 0.3085 - accuracy: 0.8939 - val_loss: 1.4850 - val_accuracy: 0.6426 - lr: 7.2900e-04\n",
            "Epoch 26/100\n",
            "359/359 [==============================] - 20s 55ms/step - loss: 0.3068 - accuracy: 0.8969 - val_loss: 1.6377 - val_accuracy: 0.6423 - lr: 7.2900e-04\n",
            "Epoch 27/100\n",
            "359/359 [==============================] - 19s 54ms/step - loss: 0.2816 - accuracy: 0.9051 - val_loss: 1.4911 - val_accuracy: 0.6520 - lr: 7.2900e-04\n",
            "Epoch 28/100\n",
            "359/359 [==============================] - 20s 54ms/step - loss: 0.2503 - accuracy: 0.9163 - val_loss: 1.6393 - val_accuracy: 0.6425 - lr: 6.5610e-04\n",
            "Epoch 29/100\n",
            "359/359 [==============================] - 20s 56ms/step - loss: 0.2396 - accuracy: 0.9211 - val_loss: 1.7470 - val_accuracy: 0.6515 - lr: 6.5610e-04\n",
            "Epoch 30/100\n",
            "359/359 [==============================] - 20s 55ms/step - loss: 0.2240 - accuracy: 0.9256 - val_loss: 1.8591 - val_accuracy: 0.6346 - lr: 6.5610e-04\n",
            "Epoch 31/100\n",
            "359/359 [==============================] - 20s 55ms/step - loss: 0.2185 - accuracy: 0.9277 - val_loss: 1.8430 - val_accuracy: 0.6482 - lr: 6.5610e-04\n",
            "Epoch 32/100\n",
            "359/359 [==============================] - 20s 56ms/step - loss: 0.2035 - accuracy: 0.9319 - val_loss: 1.8042 - val_accuracy: 0.6437 - lr: 6.5610e-04\n",
            "Epoch 33/100\n",
            "359/359 [==============================] - 19s 54ms/step - loss: 0.1885 - accuracy: 0.9397 - val_loss: 1.7908 - val_accuracy: 0.6439 - lr: 5.9049e-04\n",
            "Epoch 34/100\n",
            "359/359 [==============================] - 20s 55ms/step - loss: 0.1773 - accuracy: 0.9424 - val_loss: 1.8320 - val_accuracy: 0.6480 - lr: 5.9049e-04\n",
            "Epoch 35/100\n",
            "359/359 [==============================] - 19s 54ms/step - loss: 0.1672 - accuracy: 0.9471 - val_loss: 1.8493 - val_accuracy: 0.6437 - lr: 5.9049e-04\n",
            "Epoch 36/100\n",
            "359/359 [==============================] - 20s 55ms/step - loss: 0.1550 - accuracy: 0.9495 - val_loss: 2.0459 - val_accuracy: 0.6526 - lr: 5.9049e-04\n",
            "Epoch 37/100\n",
            "359/359 [==============================] - 20s 55ms/step - loss: 0.1653 - accuracy: 0.9477 - val_loss: 1.9251 - val_accuracy: 0.6322 - lr: 5.9049e-04\n",
            "Epoch 38/100\n",
            "359/359 [==============================] - 19s 54ms/step - loss: 0.1365 - accuracy: 0.9573 - val_loss: 2.0203 - val_accuracy: 0.6477 - lr: 5.3144e-04\n",
            "Epoch 39/100\n",
            "359/359 [==============================] - 20s 55ms/step - loss: 0.1282 - accuracy: 0.9600 - val_loss: 2.0297 - val_accuracy: 0.6508 - lr: 5.3144e-04\n",
            "Epoch 40/100\n",
            "359/359 [==============================] - 20s 54ms/step - loss: 0.1272 - accuracy: 0.9592 - val_loss: 2.2024 - val_accuracy: 0.6428 - lr: 5.3144e-04\n",
            "Epoch 41/100\n",
            "359/359 [==============================] - 20s 55ms/step - loss: 0.1231 - accuracy: 0.9613 - val_loss: 2.0343 - val_accuracy: 0.6430 - lr: 5.3144e-04\n",
            "Epoch 42/100\n",
            "359/359 [==============================] - 20s 55ms/step - loss: 0.1207 - accuracy: 0.9612 - val_loss: 1.9988 - val_accuracy: 0.6416 - lr: 5.3144e-04\n",
            "Epoch 43/100\n",
            "359/359 [==============================] - 20s 55ms/step - loss: 0.1080 - accuracy: 0.9672 - val_loss: 2.0704 - val_accuracy: 0.6447 - lr: 4.7830e-04\n",
            "Epoch 44/100\n",
            "359/359 [==============================] - 19s 54ms/step - loss: 0.0980 - accuracy: 0.9680 - val_loss: 2.1953 - val_accuracy: 0.6402 - lr: 4.7830e-04\n",
            "Epoch 45/100\n",
            "359/359 [==============================] - 20s 55ms/step - loss: 0.0955 - accuracy: 0.9688 - val_loss: 2.2993 - val_accuracy: 0.6489 - lr: 4.7830e-04\n",
            "Epoch 46/100\n",
            "359/359 [==============================] - 20s 55ms/step - loss: 0.0950 - accuracy: 0.9709 - val_loss: 2.2210 - val_accuracy: 0.6289 - lr: 4.7830e-04\n"
          ]
        }
      ]
    },
    {
      "cell_type": "markdown",
      "metadata": {
        "id": "ZZcGlpb4YkCs"
      },
      "source": [
        "After the training process is completed, let's display the accuracy diagram of the training accuracy and validation accuracy."
      ]
    },
    {
      "cell_type": "code",
      "source": [
        "%cd /content/Face-Emotion-Recognition/"
      ],
      "metadata": {
        "colab": {
          "base_uri": "https://localhost:8080/"
        },
        "id": "vxGfmIrzxXT2",
        "outputId": "358e946b-abca-4ed4-bb31-c4c071cc35ee"
      },
      "execution_count": null,
      "outputs": [
        {
          "output_type": "stream",
          "name": "stdout",
          "text": [
            "/content/Face-Emotion-Recognition\n"
          ]
        }
      ]
    },
    {
      "cell_type": "code",
      "source": [
        "%ls"
      ],
      "metadata": {
        "colab": {
          "base_uri": "https://localhost:8080/"
        },
        "id": "JQrV2uNb0evX",
        "outputId": "8e38fbef-632c-4f61-e076-3417e917549c"
      },
      "execution_count": null,
      "outputs": [
        {
          "output_type": "stream",
          "name": "stdout",
          "text": [
            "\u001b[0m\u001b[01;34mfa\u001b[0m/                        Model.py            \u001b[01;34m__pycache__\u001b[0m/  Segmenting_Data.py\n",
            "\u001b[01;34mFace-Emotion-Recognition\u001b[0m/  Preprocess_Data.py  README.md     Train.py\n"
          ]
        }
      ]
    },
    {
      "cell_type": "code",
      "source": [
        "import matplotlib.pyplot as plt\n",
        "\n",
        "# Set the style of the plot\n",
        "plt.style.use('ggplot')\n",
        "\n",
        "# Plot the accuracy\n",
        "plt.figure(figsize=(10, 5))\n",
        "plt.plot(history.history['accuracy'], marker='o', label='Training Accuracy')\n",
        "\n",
        "# Plot the validation accuracy\n",
        "plt.plot(history.history['val_accuracy'], marker='o', label='Validation Accuracy')\n",
        "\n",
        "# Customize the title and labels\n",
        "plt.title('Model Accuracy Over Time', fontsize=15)\n",
        "plt.xlabel('Epochs', fontsize=12)\n",
        "plt.ylabel('Accuracy', fontsize=12)\n",
        "\n",
        "# Add a grid\n",
        "plt.grid(True)\n",
        "\n",
        "# Add a legend\n",
        "plt.legend(loc='upper left')\n",
        "\n",
        "# Show the plot\n",
        "plt.show()\n"
      ],
      "metadata": {
        "colab": {
          "base_uri": "https://localhost:8080/",
          "height": 493
        },
        "id": "sDHQPTDA8dy4",
        "outputId": "dbd96c0e-55ef-4517-cc3d-0a933538bd15"
      },
      "execution_count": null,
      "outputs": [
        {
          "output_type": "display_data",
          "data": {
            "text/plain": [
              "<Figure size 1000x500 with 1 Axes>"
            ],
            "image/png": "[encoded data removed]"
          },
          "metadata": {}
        }
      ]
    },
    {
      "cell_type": "code",
      "source": [
        "from tensorflow.keras.models import load_model\n",
        "\n",
        "loaded_model = load_model('/content/drive/MyDrive/challenges-in-representation-learning-facial-expression-recognition-challenge/better pretrained model after augmentation/my_model_augmentation.keras')  # if saved as Keras format"
      ],
      "metadata": {
        "id": "4YghLtTUCjZ4"
      },
      "execution_count": null,
      "outputs": []
    },
    {
      "cell_type": "code",
      "source": [
        "from tensorflow.keras.preprocessing import image\n",
        "\n",
        "def predict_facial_expression(image_path):\n",
        "    \"\"\"Predict facial expression for image\"\"\"\n",
        "    # Open image\n",
        "    rgb_image = image.load_img(path=image_path,\n",
        "                            color_mode='grayscale',\n",
        "                            target_size=(48, 48))\n",
        "    # Convert to array\n",
        "    rgb_array = image.img_to_array(rgb_image)\n",
        "    rgb_array = numpy.expand_dims(rgb_array, axis=0)\n",
        "\n",
        "    # Show image\n",
        "    rgb_display = numpy.array(rgb_array, 'float32')\n",
        "    rgb_display = rgb_display.reshape([48, 48]);\n",
        "    plt.imshow(rgb_display, cmap='gray')\n",
        "    plt.show()\n",
        "\n",
        "    # Make predictions\n",
        "    rgb_array = rgb_array / 255.0\n",
        "    prediction = cnn_model.predict(rgb_array)\n",
        "\n",
        "    # Draw the histogram\n",
        "    plt.bar(y_pos, prediction[0], align='center', alpha=0.5)\n",
        "    plt.xticks(y_pos, categories)\n",
        "    plt.ylabel('Percentage')\n",
        "    plt.title('Facial Expression Prediction')\n",
        "    plt.show()"
      ],
      "metadata": {
        "id": "59dWPC-QDzI2"
      },
      "execution_count": null,
      "outputs": []
    },
    {
      "cell_type": "code",
      "source": [
        "# Happy\n",
        "predict_facial_expression('/content/Face-Emotion-Recognition/sample data/images.jpg')"
      ],
      "metadata": {
        "colab": {
          "base_uri": "https://localhost:8080/",
          "height": 884
        },
        "id": "Ve09ZgvkD4Hm",
        "outputId": "8b0d7b15-413a-4748-96fa-14fb83ad4776"
      },
      "execution_count": null,
      "outputs": [
        {
          "output_type": "display_data",
          "data": {
            "text/plain": [
              "<Figure size 640x480 with 1 Axes>"
            ],
            "image/png": "[encoded data removed]"
          },
          "metadata": {}
        },
        {
          "output_type": "stream",
          "name": "stdout",
          "text": [
            "1/1 [==============================] - 2s 2s/step\n"
          ]
        },
        {
          "output_type": "display_data",
          "data": {
            "text/plain": [
              "<Figure size 640x480 with 1 Axes>"
            ],
            "image/png": "[encoded data removed]"
          },
          "metadata": {}
        }
      ]
    },
    {
      "cell_type": "markdown",
      "metadata": {
        "id": "EOdICivdd8EG"
      },
      "source": [
        "### Evaluate Model"
      ]
    },
    {
      "cell_type": "code",
      "source": [
        "# Evaluate the model before enhancements\n",
        "loss_before_improvement, accuracy_before_improvement = cnn_model.evaluate(x_test, y_test)\n",
        "print(f'Accuracy before improvement: {accuracy_before_improvement}')\n"
      ],
      "metadata": {
        "colab": {
          "base_uri": "https://localhost:8080/"
        },
        "id": "zOydY93k95Jg",
        "outputId": "5f67f09a-51a1-4b13-92d5-617745795b18"
      },
      "execution_count": null,
      "outputs": [
        {
          "output_type": "stream",
          "name": "stdout",
          "text": [
            "180/180 [==============================] - 1s 8ms/step - loss: 2.2210 - accuracy: 0.6289\n",
            "Accuracy before improvement: 0.6288749575614929\n"
          ]
        }
      ]
    },
    {
      "cell_type": "markdown",
      "source": [
        "###Better Model"
      ],
      "metadata": {
        "id": "kKtBj8GzoAPC"
      }
    },
    {
      "cell_type": "markdown",
      "metadata": {
        "id": "yAyZUhqZb7RP"
      },
      "source": [
        "Next, we will improve our model by generating hard data. Specifically, instead of training the model over and over again, we will select the images which are incorrectly labelled by the model, and train the model on these specific images. Therefore, let's use our model to make predictions first, and put the incorrect ones into the array of hard data for further training."
      ]
    },
    {
      "cell_type": "code",
      "metadata": {
        "id": "Qlfx3y7deSTS",
        "outputId": "2c7bae09-47d0-4171-fde4-cb80230dbf19",
        "colab": {
          "base_uri": "https://localhost:8080/",
          "height": 51
        }
      },
      "source": [
        "# Generate hard data\n",
        "hard_images = []\n",
        "hard_labels = []\n",
        "\n",
        "# Make predictions\n",
        "predictions = cnn_model.predict(x_test)\n",
        "for i, v in enumerate(predictions):\n",
        "    y_predict = numpy.argmax(v)\n",
        "    y_real = y_train[i]\n",
        "    if y_predict != y_real:\n",
        "        # If predict incorrectly, append to array\n",
        "        image = x_train[i]\n",
        "        hard_image = image.reshape(1, 48, 48, 1)\n",
        "        hard_images.append(image)\n",
        "        hard_labels.append(y_real)\n",
        "\n",
        "x_hard = numpy.array(hard_images)\n",
        "y_hard = numpy.array(hard_labels)\n",
        "\n",
        "print(x_hard.shape)\n",
        "print(y_hard.shape)"
      ],
      "execution_count": null,
      "outputs": [
        {
          "output_type": "stream",
          "text": [
            "(4775, 48, 48, 1)\n",
            "(4775,)\n"
          ],
          "name": "stdout"
        }
      ]
    },
    {
      "cell_type": "markdown",
      "metadata": {
        "id": "EL5YlYNbdXGw"
      },
      "source": [
        "Next, we will train our model on these specific images which are previously incorrectly labelled by our model."
      ]
    },
    {
      "cell_type": "code",
      "metadata": {
        "id": "QHlPxTfryF1S",
        "outputId": "6e8d4b61-98e2-41d0-c49b-23603b1d2c98",
        "colab": {
          "base_uri": "https://localhost:8080/",
          "height": 428
        }
      },
      "source": [
        "# Train the model on hard data\n",
        "x_hard_train, x_hard_test, y_hard_train, y_hard_test = train_test_split(x_hard, y_hard, test_size=0.2)\n",
        "history = cnn_model.fit(x_hard_train,\n",
        "                        y_hard_train,\n",
        "                        batch_size=64,\n",
        "                        epochs=100,\n",
        "                        validation_data=(x_hard_test, y_hard_test),\n",
        "                        callbacks=[early_stopping, reduce_learning_rate])"
      ],
      "execution_count": null,
      "outputs": [
        {
          "output_type": "stream",
          "text": [
            "Train on 3820 samples, validate on 955 samples\n",
            "Epoch 1/100\n",
            "3820/3820 [==============================] - 4s 1ms/sample - loss: 0.1810 - accuracy: 0.9406 - val_loss: 0.0398 - val_accuracy: 0.9874\n",
            "Epoch 2/100\n",
            "3820/3820 [==============================] - 3s 685us/sample - loss: 0.1333 - accuracy: 0.9542 - val_loss: 0.0413 - val_accuracy: 0.9832\n",
            "Epoch 3/100\n",
            "3820/3820 [==============================] - 3s 686us/sample - loss: 0.0935 - accuracy: 0.9691 - val_loss: 0.0455 - val_accuracy: 0.9864\n",
            "Epoch 4/100\n",
            "3820/3820 [==============================] - 3s 693us/sample - loss: 0.1113 - accuracy: 0.9636 - val_loss: 0.1021 - val_accuracy: 0.9686\n",
            "Epoch 5/100\n",
            "3820/3820 [==============================] - 3s 687us/sample - loss: 0.0914 - accuracy: 0.9741 - val_loss: 0.0544 - val_accuracy: 0.9801\n",
            "Epoch 6/100\n",
            "3820/3820 [==============================] - 3s 689us/sample - loss: 0.0755 - accuracy: 0.9775 - val_loss: 0.0646 - val_accuracy: 0.9791\n",
            "Epoch 7/100\n",
            "3820/3820 [==============================] - 3s 698us/sample - loss: 0.0540 - accuracy: 0.9830 - val_loss: 0.0576 - val_accuracy: 0.9853\n",
            "Epoch 8/100\n",
            "3820/3820 [==============================] - 3s 684us/sample - loss: 0.0535 - accuracy: 0.9853 - val_loss: 0.0505 - val_accuracy: 0.9843\n",
            "Epoch 9/100\n",
            "3820/3820 [==============================] - 3s 687us/sample - loss: 0.0655 - accuracy: 0.9832 - val_loss: 0.0521 - val_accuracy: 0.9791\n",
            "Epoch 10/100\n",
            "3820/3820 [==============================] - 3s 684us/sample - loss: 0.0469 - accuracy: 0.9872 - val_loss: 0.0713 - val_accuracy: 0.9749\n",
            "Epoch 11/100\n",
            "3820/3820 [==============================] - 3s 688us/sample - loss: 0.0427 - accuracy: 0.9861 - val_loss: 0.0847 - val_accuracy: 0.9738\n"
          ],
          "name": "stdout"
        }
      ]
    },
    {
      "cell_type": "markdown",
      "metadata": {
        "id": "lDoZIFuMdl5H"
      },
      "source": [
        "Of course, this might cause the over-fitting issue on these incorrectly labelled images. Therefore, we will train the model again to balance out. Besides, we will also perform data augmentation to diversify our training dataset by rotating, shifting, zooming or flipping the images, which will also improve our model to overcome the over-fitting issue and learn the generic features of each image."
      ]
    },
    {
      "cell_type": "code",
      "metadata": {
        "id": "r1a3Gknqyl9e",
        "outputId": "7aab0577-9d37-44f9-f266-6388408c884d",
        "colab": {
          "base_uri": "https://localhost:8080/",
          "height": 1000
        }
      },
      "source": [
        "# Perform data augmentation\n",
        "data_generator = ImageDataGenerator(featurewise_center=False,\n",
        "                                    featurewise_std_normalization=False,\n",
        "                                    rotation_range=10,\n",
        "                                    width_shift_range=0.1,\n",
        "                                    height_shift_range=0.1,\n",
        "                                    zoom_range=.1,\n",
        "                                    horizontal_flip=True)\n",
        "flow = data_generator.flow(x_train,\n",
        "                           y_train,\n",
        "                           batch_size=64)\n",
        "\n",
        "# Train the model again to balance out\n",
        "history = cnn_model.fit(flow,\n",
        "                        epochs=100,\n",
        "                        validation_data=(x_test, y_test),\n",
        "                        callbacks=[early_stopping, reduce_learning_rate])"
      ],
      "execution_count": null,
      "outputs": [
        {
          "output_type": "stream",
          "text": [
            "WARNING:tensorflow:sample_weight modes were coerced from\n",
            "  ...\n",
            "    to  \n",
            "  ['...']\n",
            "Train for 359 steps, validate on 5742 samples\n",
            "Epoch 1/100\n",
            "359/359 [==============================] - 17s 46ms/step - loss: 1.1197 - accuracy: 0.6247 - val_loss: 0.9586 - val_accuracy: 0.6606\n",
            "Epoch 2/100\n",
            "359/359 [==============================] - 16s 44ms/step - loss: 1.0057 - accuracy: 0.6500 - val_loss: 0.9215 - val_accuracy: 0.6658\n",
            "Epoch 3/100\n",
            "359/359 [==============================] - 16s 45ms/step - loss: 0.9738 - accuracy: 0.6624 - val_loss: 0.9442 - val_accuracy: 0.6503\n",
            "Epoch 4/100\n",
            "359/359 [==============================] - 16s 45ms/step - loss: 0.9450 - accuracy: 0.6672 - val_loss: 0.9149 - val_accuracy: 0.6649\n",
            "Epoch 5/100\n",
            "359/359 [==============================] - 16s 44ms/step - loss: 0.9308 - accuracy: 0.6700 - val_loss: 0.9238 - val_accuracy: 0.6644\n",
            "Epoch 6/100\n",
            "359/359 [==============================] - 16s 44ms/step - loss: 0.9182 - accuracy: 0.6749 - val_loss: 0.9165 - val_accuracy: 0.6703\n",
            "Epoch 7/100\n",
            "359/359 [==============================] - 16s 45ms/step - loss: 0.9090 - accuracy: 0.6790 - val_loss: 0.9085 - val_accuracy: 0.6686\n",
            "Epoch 8/100\n",
            "359/359 [==============================] - 16s 45ms/step - loss: 0.8925 - accuracy: 0.6882 - val_loss: 0.9234 - val_accuracy: 0.6665\n",
            "Epoch 9/100\n",
            "359/359 [==============================] - 16s 45ms/step - loss: 0.8741 - accuracy: 0.6917 - val_loss: 0.9059 - val_accuracy: 0.6769\n",
            "Epoch 10/100\n",
            "359/359 [==============================] - 16s 45ms/step - loss: 0.8735 - accuracy: 0.6913 - val_loss: 0.9145 - val_accuracy: 0.6715\n",
            "Epoch 11/100\n",
            "359/359 [==============================] - 16s 45ms/step - loss: 0.8649 - accuracy: 0.6968 - val_loss: 0.9292 - val_accuracy: 0.6688\n",
            "Epoch 12/100\n",
            "359/359 [==============================] - 16s 45ms/step - loss: 0.8503 - accuracy: 0.6975 - val_loss: 0.9193 - val_accuracy: 0.6670\n",
            "Epoch 13/100\n",
            "359/359 [==============================] - 16s 45ms/step - loss: 0.8471 - accuracy: 0.7030 - val_loss: 0.9295 - val_accuracy: 0.6761\n",
            "Epoch 14/100\n",
            "359/359 [==============================] - 16s 45ms/step - loss: 0.8217 - accuracy: 0.7105 - val_loss: 0.9447 - val_accuracy: 0.6654\n",
            "Epoch 15/100\n",
            "359/359 [==============================] - 16s 45ms/step - loss: 0.8199 - accuracy: 0.7114 - val_loss: 0.9077 - val_accuracy: 0.6790\n",
            "Epoch 16/100\n",
            "359/359 [==============================] - 16s 45ms/step - loss: 0.8071 - accuracy: 0.7120 - val_loss: 0.9207 - val_accuracy: 0.6731\n",
            "Epoch 17/100\n",
            "359/359 [==============================] - 16s 45ms/step - loss: 0.8013 - accuracy: 0.7132 - val_loss: 0.9483 - val_accuracy: 0.6604\n",
            "Epoch 18/100\n",
            "359/359 [==============================] - 16s 45ms/step - loss: 0.7953 - accuracy: 0.7178 - val_loss: 0.9149 - val_accuracy: 0.6769\n",
            "Epoch 19/100\n",
            "359/359 [==============================] - 16s 45ms/step - loss: 0.7841 - accuracy: 0.7217 - val_loss: 0.9085 - val_accuracy: 0.6721\n",
            "Epoch 20/100\n",
            "359/359 [==============================] - 16s 45ms/step - loss: 0.7696 - accuracy: 0.7271 - val_loss: 0.9132 - val_accuracy: 0.6754\n",
            "Epoch 21/100\n",
            "359/359 [==============================] - 16s 45ms/step - loss: 0.7627 - accuracy: 0.7309 - val_loss: 0.9231 - val_accuracy: 0.6705\n",
            "Epoch 22/100\n",
            "359/359 [==============================] - 16s 45ms/step - loss: 0.7589 - accuracy: 0.7310 - val_loss: 0.9336 - val_accuracy: 0.6801\n",
            "Epoch 23/100\n",
            "359/359 [==============================] - 16s 45ms/step - loss: 0.7578 - accuracy: 0.7276 - val_loss: 0.9242 - val_accuracy: 0.6726\n",
            "Epoch 24/100\n",
            "359/359 [==============================] - 16s 45ms/step - loss: 0.7332 - accuracy: 0.7361 - val_loss: 0.9237 - val_accuracy: 0.6848\n",
            "Epoch 25/100\n",
            "359/359 [==============================] - 16s 45ms/step - loss: 0.7313 - accuracy: 0.7412 - val_loss: 0.9434 - val_accuracy: 0.6705\n",
            "Epoch 26/100\n",
            "359/359 [==============================] - 16s 45ms/step - loss: 0.7280 - accuracy: 0.7431 - val_loss: 0.9376 - val_accuracy: 0.6722\n",
            "Epoch 27/100\n",
            "359/359 [==============================] - 16s 45ms/step - loss: 0.7067 - accuracy: 0.7521 - val_loss: 0.9273 - val_accuracy: 0.6796\n",
            "Epoch 28/100\n",
            "359/359 [==============================] - 16s 45ms/step - loss: 0.7059 - accuracy: 0.7536 - val_loss: 0.9347 - val_accuracy: 0.6787\n",
            "Epoch 29/100\n",
            "359/359 [==============================] - 16s 45ms/step - loss: 0.6980 - accuracy: 0.7553 - val_loss: 0.9211 - val_accuracy: 0.6822\n",
            "Epoch 30/100\n",
            "359/359 [==============================] - 16s 45ms/step - loss: 0.6917 - accuracy: 0.7563 - val_loss: 0.9556 - val_accuracy: 0.6738\n",
            "Epoch 31/100\n",
            "359/359 [==============================] - 16s 45ms/step - loss: 0.6945 - accuracy: 0.7567 - val_loss: 0.9342 - val_accuracy: 0.6750\n",
            "Epoch 32/100\n",
            "359/359 [==============================] - 16s 45ms/step - loss: 0.6782 - accuracy: 0.7609 - val_loss: 0.9296 - val_accuracy: 0.6846\n",
            "Epoch 33/100\n",
            "359/359 [==============================] - 16s 45ms/step - loss: 0.6734 - accuracy: 0.7624 - val_loss: 0.9382 - val_accuracy: 0.6827\n",
            "Epoch 34/100\n",
            "359/359 [==============================] - 16s 45ms/step - loss: 0.6682 - accuracy: 0.7625 - val_loss: 0.9501 - val_accuracy: 0.6782\n"
          ],
          "name": "stdout"
        }
      ]
    },
    {
      "cell_type": "markdown",
      "metadata": {
        "id": "woUbYgY3fVey"
      },
      "source": [
        "Finally, let's evaluate our model again after improvement. Previously, we have the validation accuracy at around 64%. Nevertheless, the validation accuracy has increased to around **68%**."
      ]
    },
    {
      "cell_type": "code",
      "metadata": {
        "id": "AsSyAzy4e2_a",
        "outputId": "c33de393-86fc-47b4-86ce-2c76294c4b8b",
        "colab": {
          "base_uri": "https://localhost:8080/",
          "height": 51
        }
      },
      "source": [
        "# Evaluate the model after improvement\n",
        "_, score_after_improvement = cnn_model.evaluate(x_test, y_test)\n",
        "print('Score after improvement: {}'.format(score_after_improvement))"
      ],
      "execution_count": null,
      "outputs": [
        {
          "output_type": "stream",
          "text": [
            "5742/5742 [==============================] - 2s 261us/sample - loss: 0.9501 - accuracy: 0.6782\n",
            "Score after improvement: 0.6781609058380127\n"
          ],
          "name": "stdout"
        }
      ]
    },
    {
      "cell_type": "markdown",
      "metadata": {
        "id": "8BhmDuNVD6gz"
      },
      "source": [
        "### Evaluate Model"
      ]
    },
    {
      "cell_type": "markdown",
      "metadata": {
        "id": "Iq3q_MMdZupg"
      },
      "source": [
        "Next, we will make predictions and create the confusion matrix. Since FER2013 dataset does NOT provide too many images labelled with \"Disgust\", we can tell from the confusion matrix that, the model might not be able to classify the images labelled with \"Disgust\" very well."
      ]
    },
    {
      "cell_type": "code",
      "metadata": {
        "id": "QZBETwWhckX8",
        "outputId": "43de4a5e-c818-47db-ddb1-4756197f83f1",
        "colab": {
          "base_uri": "https://localhost:8080/",
          "height": 333
        }
      },
      "source": [
        "!pip install -U mlxtend > /dev/null 2>&1\n",
        "\n",
        "from mlxtend.plotting import plot_confusion_matrix\n",
        "from sklearn.metrics import confusion_matrix\n",
        "\n",
        "# Make predictions\n",
        "predictions = cnn_model.predict(x_test)\n",
        "y_predict = numpy.argmax(predictions, axis=1)\n",
        "\n",
        "# Create confusion matrix\n",
        "conf_matrix = confusion_matrix(y_test, y_predict)\n",
        "\n",
        "# Display confusion matrix\n",
        "class_names = ['Angry', 'Disgust', 'Fear', 'Happy', 'Sad', 'Surprise', 'Neutral']\n",
        "fig, ax = plot_confusion_matrix(conf_mat=conf_matrix, class_names=class_names)\n",
        "plt.title('Confusion Matrix')\n",
        "plt.show()"
      ],
      "execution_count": null,
      "outputs": [
        {
          "output_type": "display_data",
          "data": {
            "image/png": "[encoded data removed]",
            "text/plain": [
              "<Figure size 432x288 with 1 Axes>"
            ]
          },
          "metadata": {
            "tags": []
          }
        }
      ]
    },
    {
      "cell_type": "markdown",
      "metadata": {
        "id": "ijiykST1LHzh"
      },
      "source": [
        "Then, let's try some other human facial expression images found online.\n"
      ]
    },
    {
      "cell_type": "code",
      "metadata": {
        "id": "e8HVZFf8Lmun"
      },
      "source": [
        "# Download into data folder\n",
        "os.chdir('/content/data')\n",
        "\n",
        "!wget --no-check-certificate 'https://docs.google.com/uc?export=download&id=1ommGLsYSnmX8846iyQigKQfIfvpQzsF0' -O happy.jpg > /dev/null 2>&1\n",
        "!wget --no-check-certificate 'https://docs.google.com/uc?export=download&id=1I1IjDm9Az4pkDqOz3zcQAguEJ1OsWagt' -O sad.jpg > /dev/null 2>&1\n",
        "!wget --no-check-certificate 'https://docs.google.com/uc?export=download&id=1ZLglz_y0QklbYTcwJW1wH0YnAwBn6-1I' -O surprise.jpg > /dev/null 2>&1"
      ],
      "execution_count": null,
      "outputs": []
    },
    {
      "cell_type": "code",
      "metadata": {
        "id": "PtII1ObCLRV3"
      },
      "source": [
        "from tensorflow.keras.preprocessing import image\n",
        "\n",
        "def predict_facial_expression(image_path):\n",
        "    \"\"\"Predict facial expression for image\"\"\"\n",
        "    # Open image\n",
        "    rgb_image = image.load_img(path=image_path,\n",
        "                            color_mode='grayscale',\n",
        "                            target_size=(48, 48))\n",
        "    # Convert to array\n",
        "    rgb_array = image.img_to_array(rgb_image)\n",
        "    rgb_array = numpy.expand_dims(rgb_array, axis=0)\n",
        "\n",
        "    # Show image\n",
        "    rgb_display = numpy.array(rgb_array, 'float32')\n",
        "    rgb_display = rgb_display.reshape([48, 48]);\n",
        "    plt.imshow(rgb_display, cmap='gray')\n",
        "    plt.show()\n",
        "\n",
        "    # Make predictions\n",
        "    rgb_array = rgb_array / 255.0\n",
        "    prediction = cnn_model.predict(rgb_array)\n",
        "\n",
        "    # Draw the histogram\n",
        "    plt.bar(y_pos, prediction[0], align='center', alpha=0.5)\n",
        "    plt.xticks(y_pos, categories)\n",
        "    plt.ylabel('Percentage')\n",
        "    plt.title('Facial Expression Prediction')\n",
        "    plt.show()"
      ],
      "execution_count": null,
      "outputs": []
    },
    {
      "cell_type": "code",
      "metadata": {
        "id": "68HuO6eOXsTn",
        "outputId": "8bed4a35-1593-4f29-c3ba-090dbecc87b5",
        "colab": {
          "base_uri": "https://localhost:8080/",
          "height": 531
        }
      },
      "source": [
        "# Happy\n",
        "predict_facial_expression('happy.jpg')"
      ],
      "execution_count": null,
      "outputs": [
        {
          "output_type": "display_data",
          "data": {
            "image/png": "[encoded data removed]",
            "text/plain": [
              "<Figure size 432x288 with 1 Axes>"
            ]
          },
          "metadata": {
            "tags": []
          }
        },
        {
          "output_type": "display_data",
          "data": {
            "image/png": "[encoded data removed]",
            "text/plain": [
              "<Figure size 432x288 with 1 Axes>"
            ]
          },
          "metadata": {
            "tags": []
          }
        }
      ]
    },
    {
      "cell_type": "code",
      "metadata": {
        "id": "X32JxVqxZwRc",
        "outputId": "b6639c42-39e3-4f12-94ef-01d14dbc45b7",
        "colab": {
          "base_uri": "https://localhost:8080/",
          "height": 531
        }
      },
      "source": [
        "# Sad\n",
        "predict_facial_expression('sad.jpg')"
      ],
      "execution_count": null,
      "outputs": [
        {
          "output_type": "display_data",
          "data": {
            "image/png": "[encoded data removed]",
            "text/plain": [
              "<Figure size 432x288 with 1 Axes>"
            ]
          },
          "metadata": {
            "tags": []
          }
        },
        {
          "output_type": "display_data",
          "data": {
            "image/png": "[encoded data removed]",
            "text/plain": [
              "<Figure size 432x288 with 1 Axes>"
            ]
          },
          "metadata": {
            "tags": []
          }
        }
      ]
    },
    {
      "cell_type": "code",
      "metadata": {
        "id": "2SHHG9NiZzVr",
        "outputId": "da5e2432-b6c2-47fd-b099-15cc6c6903c3",
        "colab": {
          "base_uri": "https://localhost:8080/",
          "height": 531
        }
      },
      "source": [
        "# Surprise\n",
        "predict_facial_expression('surprise.jpg')"
      ],
      "execution_count": null,
      "outputs": [
        {
          "output_type": "display_data",
          "data": {
            "image/png": "[encoded data removed]",
            "text/plain": [
              "<Figure size 432x288 with 1 Axes>"
            ]
          },
          "metadata": {
            "tags": []
          }
        },
        {
          "output_type": "display_data",
          "data": {
            "image/png": "[encoded data removed]",
            "text/plain": [
              "<Figure size 432x288 with 1 Axes>"
            ]
          },
          "metadata": {
            "tags": []
          }
        }
      ]
    },
    {
      "cell_type": "markdown",
      "metadata": {
        "id": "9QXPUCa2bpVa"
      },
      "source": [
        "### Export Model"
      ]
    },
    {
      "cell_type": "markdown",
      "metadata": {
        "id": "mhTz94mYgenS"
      },
      "source": [
        "Last but not least, let's export the model, and save our TensorFlow and TensorFlow Lite model."
      ]
    },
    {
      "cell_type": "code",
      "metadata": {
        "id": "fAeGSuT4J9fa",
        "outputId": "1269ce13-29b0-4960-b3fb-88f016942d7d",
        "colab": {
          "base_uri": "https://localhost:8080/",
          "height": 34
        }
      },
      "source": [
        "# Create build folder\n",
        "os.chdir('/content/')\n",
        "!rm -rf build\n",
        "!mkdir build\n",
        "os.chdir('build')\n",
        "!pwd"
      ],
      "execution_count": null,
      "outputs": [
        {
          "output_type": "stream",
          "text": [
            "/content/build\n"
          ],
          "name": "stdout"
        }
      ]
    },
    {
      "cell_type": "code",
      "metadata": {
        "id": "CfQNCPLtEIYV"
      },
      "source": [
        "# Save tensorflow model\n",
        "cnn_model.save('FER2013.h5')"
      ],
      "execution_count": null,
      "outputs": []
    },
    {
      "cell_type": "code",
      "metadata": {
        "id": "KFGQoUgnFtwB",
        "outputId": "ea8a041c-ff89-4d08-f4ea-35ba66e54c88",
        "colab": {
          "base_uri": "https://localhost:8080/",
          "height": 34
        }
      },
      "source": [
        "# Save tensorflow lite model\n",
        "converter = tf.lite.TFLiteConverter.from_keras_model(cnn_model)\n",
        "tflite_model = converter.convert()\n",
        "open(\"FER2013.tflite\", \"wb\").write(tflite_model)"
      ],
      "execution_count": null,
      "outputs": [
        {
          "output_type": "execute_result",
          "data": {
            "text/plain": [
              "20406252"
            ]
          },
          "metadata": {
            "tags": []
          },
          "execution_count": 23
        }
      ]
    },
    {
      "cell_type": "markdown",
      "metadata": {
        "id": "Yl8zZhYxKYE9"
      },
      "source": [
        "## Conclusion"
      ]
    },
    {
      "cell_type": "markdown",
      "metadata": {
        "id": "5z2aRqpmKZr_"
      },
      "source": [
        "To put it in a nutshell, Best Actor is a mobile game which integrates the computer vision technology using Convolutional Neural Network."
      ]
    }
  ]
}